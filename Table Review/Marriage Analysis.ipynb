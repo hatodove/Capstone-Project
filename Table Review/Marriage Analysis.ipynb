{
 "cells": [
  {
   "cell_type": "markdown",
   "id": "fbc6bbed-57b4-4d6f-9a7d-2aadf8d36ba3",
   "metadata": {},
   "source": [
    "Introduction\n",
    "\n",
    "This section examines whether changes in marriage prevalence (share of women 15–49 who are married or in a union) are associated with changes in fertility (total fertility rate) across countries and over time (1970–2024). We analyze both cross-country patterns and within-country dynamics, using:\n",
    "\n",
    "Pooled correlations (Pearson & Spearman) to capture overall association,\n",
    "\n",
    "Within-country (demeaned) correlations to remove time-invariant country factors,\n",
    "\n",
    "Lag tests (1–3 years) to see whether marriage movements precede fertility movements,\n",
    "\n",
    "Partial correlations controlling for log(GDP per capita) to test independence from income,\n",
    "\n",
    "First differences (Δ) to assess year-to-year co-movement.\n",
    "\n",
    "We report effect sizes (r/ρ), p-values, and sample sizes (n), and note where results remain robust after common sense checks (lags, within-country, partial).\n",
    "\n",
    "H0: There is no statistical association between marriage prevalence (share of women 15–49 married/in union) and fertility (TFR) across countries and over time."
   ]
  },
  {
   "cell_type": "code",
   "execution_count": 23,
   "id": "77a3afa1-c4b0-4d04-8327-efaf4d62815c",
   "metadata": {},
   "outputs": [
    {
     "data": {
      "text/plain": [
       "{'rows_in_panel': 17927,\n",
       " 'rows_in_marriage_slice': 11266,\n",
       " 'date_range_panel': (1960, 2024),\n",
       " 'date_range_marriage': (1970, 2023),\n",
       " 'non_null_fraction_fertility': 94.4,\n",
       " 'non_null_fraction_married': 68.1}"
      ]
     },
     "execution_count": 23,
     "metadata": {},
     "output_type": "execute_result"
    }
   ],
   "source": [
    "# Setup & Data Prep\n",
    "\n",
    "import numpy as np\n",
    "import pandas as pd\n",
    "import os, math\n",
    "import matplotlib.pyplot as plt\n",
    "from scipy.stats import pearsonr, spearmanr\n",
    "from sqlalchemy import create_engine\n",
    "\n",
    "# 1) Load the unified panel from your SQLite DB\n",
    "engine = create_engine(\"sqlite:///analytics_panel.sqlite\")\n",
    "panel = pd.read_sql(\"SELECT * FROM v_panel_all;\", con=engine)\n",
    "\n",
    "# 2) Basic hygiene: build log GDP per capita once (for later partial tests)\n",
    "panel[\"log_gdppc\"] = np.log(panel[\"current_usd\"]).replace([np.inf, -np.inf], np.nan)\n",
    "\n",
    "# 3) Build the Marriage slice (years explicitly limited to 1970–2024, per your plan)\n",
    "mar = (\n",
    "    panel[[\"iso_code\",\"year\",\"fertility_rate\",\"married_percentage\",\"log_gdppc\"]]\n",
    "    .query(\"year >= 1970 and year <= 2024\")\n",
    "    .dropna(subset=[\"fertility_rate\",\"married_percentage\"])\n",
    "    .copy()\n",
    ")\n",
    "\n",
    "# 4) Quick sanity checks you’ll cite in the write-up\n",
    "summary = {\n",
    "    \"rows_in_panel\": len(panel),\n",
    "    \"rows_in_marriage_slice\": len(mar),\n",
    "    \"date_range_panel\": (int(panel[\"year\"].min()), int(panel[\"year\"].max())),\n",
    "    \"date_range_marriage\": (int(mar[\"year\"].min()), int(mar[\"year\"].max())),\n",
    "    \"non_null_fraction_fertility\": round(panel[\"fertility_rate\"].notna().mean()*100, 1),\n",
    "    \"non_null_fraction_married\": round(panel[\"married_percentage\"].notna().mean()*100, 1),\n",
    "}\n",
    "\n",
    "summary\n"
   ]
  },
  {
   "cell_type": "code",
   "execution_count": 24,
   "id": "2b1ee19d-8a26-4299-b2f7-fe380b85f7ad",
   "metadata": {},
   "outputs": [
    {
     "name": "stdout",
     "output_type": "stream",
     "text": [
      "Unique countries with ANY fertility (all years):         265\n",
      "Unique countries with ANY marriage (all years):          222\n",
      "Unique countries with ANY fertility (1970–2024):         265\n",
      "Unique countries with ANY marriage (1970–2024):          222\n",
      "Unique countries with BOTH (1970–2024; your mar slice):  209\n"
     ]
    }
   ],
   "source": [
    "# Coverage counts for fertility & marriage \n",
    "\n",
    "#  ANY fertility & ANY marriage in the full panel (all years)\n",
    "n_fert_any_panel = panel.loc[panel[\"fertility_rate\"].notna(), \"iso_code\"].nunique(dropna=True)\n",
    "n_mar_any_panel  = panel.loc[panel[\"married_percentage\"].notna(), \"iso_code\"].nunique(dropna=True)\n",
    "\n",
    "# ANY fertility & ANY marriage within 1970–2024 window (to match your analysis horizon)\n",
    "mask_7024 = panel[\"year\"].between(1970, 2024)\n",
    "n_fert_7024 = panel.loc[mask_7024 & panel[\"fertility_rate\"].notna(), \"iso_code\"].nunique(dropna=True)\n",
    "n_mar_7024  = panel.loc[mask_7024 & panel[\"married_percentage\"].notna(), \"iso_code\"].nunique(dropna=True)\n",
    "\n",
    "# BOTH fertility & marriage non-null in the same rows (your `mar` slice already enforces this)\n",
    "n_both_7024 = mar[\"iso_code\"].nunique(dropna=True)\n",
    "\n",
    "print(\"Unique countries with ANY fertility (all years):        \", n_fert_any_panel)\n",
    "print(\"Unique countries with ANY marriage (all years):         \", n_mar_any_panel)\n",
    "print(\"Unique countries with ANY fertility (1970–2024):        \", n_fert_7024)\n",
    "print(\"Unique countries with ANY marriage (1970–2024):         \", n_mar_7024)\n",
    "print(\"Unique countries with BOTH (1970–2024; your mar slice): \", n_both_7024)\n",
    "\n",
    "# quick depth checks (years with data per country)\n",
    "per_country_years = (\n",
    "    panel.loc[mask_7024, [\"iso_code\",\"year\",\"fertility_rate\",\"married_percentage\"]]\n",
    "         .assign(has_fert=lambda d: d[\"fertility_rate\"].notna().astype(int),\n",
    "                 has_mar =lambda d: d[\"married_percentage\"].notna().astype(int))\n",
    "         .groupby(\"iso_code\", dropna=True)\n",
    "         .agg(years_fert=(\"has_fert\", \"sum\"),\n",
    "              years_mar =(\"has_mar\", \"sum\"))\n",
    "         .sort_values([\"years_fert\",\"years_mar\"], ascending=[True, True])\n",
    ")\n",
    "\n",
    "# (uncomment to peek)\n",
    "# per_country_years.head(10)\n"
   ]
  },
  {
   "cell_type": "raw",
   "id": "dd22c488-85bb-4d9a-8866-0cb1f24a1a8b",
   "metadata": {},
   "source": [
    "Really good coverage"
   ]
  },
  {
   "cell_type": "code",
   "execution_count": 25,
   "id": "35ffdd36-c3ae-463c-b0d9-3c4e0f741c84",
   "metadata": {},
   "outputs": [
    {
     "data": {
      "text/html": [
       "<div>\n",
       "<style scoped>\n",
       "    .dataframe tbody tr th:only-of-type {\n",
       "        vertical-align: middle;\n",
       "    }\n",
       "\n",
       "    .dataframe tbody tr th {\n",
       "        vertical-align: top;\n",
       "    }\n",
       "\n",
       "    .dataframe thead th {\n",
       "        text-align: right;\n",
       "    }\n",
       "</style>\n",
       "<table border=\"1\" class=\"dataframe\">\n",
       "  <thead>\n",
       "    <tr style=\"text-align: right;\">\n",
       "      <th></th>\n",
       "      <th>n</th>\n",
       "      <th>pearson_r</th>\n",
       "      <th>pearson_p</th>\n",
       "      <th>spearman_r</th>\n",
       "      <th>spearman_p</th>\n",
       "    </tr>\n",
       "  </thead>\n",
       "  <tbody>\n",
       "    <tr>\n",
       "      <th>0</th>\n",
       "      <td>11266</td>\n",
       "      <td>0.426064</td>\n",
       "      <td>0.0</td>\n",
       "      <td>0.384271</td>\n",
       "      <td>0.0</td>\n",
       "    </tr>\n",
       "  </tbody>\n",
       "</table>\n",
       "</div>"
      ],
      "text/plain": [
       "       n  pearson_r  pearson_p  spearman_r  spearman_p\n",
       "0  11266   0.426064        0.0    0.384271         0.0"
      ]
     },
     "execution_count": 25,
     "metadata": {},
     "output_type": "execute_result"
    }
   ],
   "source": [
    "# Pooled correlations (1970–2024 window already applied in M1) \n",
    "\n",
    "def corr_tests(df, x=\"married_percentage\", y=\"fertility_rate\"):\n",
    "    sub = df[[y, x]].dropna()\n",
    "    n = len(sub)\n",
    "    if n < 10:\n",
    "        return pd.DataFrame([{\"n\": n, \"pearson_r\": np.nan, \"pearson_p\": np.nan,\n",
    "                              \"spearman_r\": np.nan, \"spearman_p\": np.nan}])\n",
    "    r_p, p_p = pearsonr(sub[y], sub[x])\n",
    "    r_s, p_s = spearmanr(sub[y], sub[x])\n",
    "    return pd.DataFrame([{\"n\": n, \"pearson_r\": float(r_p), \"pearson_p\": float(p_p),\n",
    "                          \"spearman_r\": float(r_s), \"spearman_p\": float(p_s)}])\n",
    "\n",
    "pooled_sig_marriage = corr_tests(mar)\n",
    "pooled_sig_marriage\n"
   ]
  },
  {
   "cell_type": "markdown",
   "id": "9139b047-e00c-45cd-a488-f1d83fcfa215",
   "metadata": {},
   "source": [
    "### Marriage ↔ Fertility — Pooled (1970–2024)\n",
    "\n",
    "Interpretation: There is a moderate positive association between marriage prevalence and fertility in pooled cross-country/year data. Roughly 18% of fertility variation is associated with marriage prevalence in a linear sense (r² ≈ 0.426² ≈ **0.18**); the rank-based result (ρ² ≈ 0.15) confirms the pattern is monotonic."
   ]
  },
  {
   "cell_type": "code",
   "execution_count": 26,
   "id": "06f07a4f-9ecd-443d-a639-b4cf012d1989",
   "metadata": {},
   "outputs": [
    {
     "data": {
      "text/html": [
       "<div>\n",
       "<style scoped>\n",
       "    .dataframe tbody tr th:only-of-type {\n",
       "        vertical-align: middle;\n",
       "    }\n",
       "\n",
       "    .dataframe tbody tr th {\n",
       "        vertical-align: top;\n",
       "    }\n",
       "\n",
       "    .dataframe thead th {\n",
       "        text-align: right;\n",
       "    }\n",
       "</style>\n",
       "<table border=\"1\" class=\"dataframe\">\n",
       "  <thead>\n",
       "    <tr style=\"text-align: right;\">\n",
       "      <th></th>\n",
       "      <th>n</th>\n",
       "      <th>pearson_r</th>\n",
       "      <th>pearson_p</th>\n",
       "      <th>spearman_r</th>\n",
       "      <th>spearman_p</th>\n",
       "    </tr>\n",
       "  </thead>\n",
       "  <tbody>\n",
       "    <tr>\n",
       "      <th>0</th>\n",
       "      <td>11266</td>\n",
       "      <td>0.454988</td>\n",
       "      <td>0.0</td>\n",
       "      <td>0.488411</td>\n",
       "      <td>0.0</td>\n",
       "    </tr>\n",
       "  </tbody>\n",
       "</table>\n",
       "</div>"
      ],
      "text/plain": [
       "       n  pearson_r  pearson_p  spearman_r  spearman_p\n",
       "0  11266   0.454988        0.0    0.488411         0.0"
      ]
     },
     "execution_count": 26,
     "metadata": {},
     "output_type": "execute_result"
    }
   ],
   "source": [
    "# Within-country (demeaned) correlations \n",
    "def demean_by_country(df, cols=(\"fertility_rate\",\"married_percentage\")):\n",
    "    out = df.copy()\n",
    "    for c in cols:\n",
    "        out[c] = out[c] - out.groupby(\"iso_code\")[c].transform(\"mean\")\n",
    "    return out\n",
    "\n",
    "mar_w = demean_by_country(mar)\n",
    "within_sig_marriage = corr_tests(mar_w)\n",
    "within_sig_marriage\n"
   ]
  },
  {
   "cell_type": "markdown",
   "id": "9f59d7e6-2e4a-4faf-ba46-7cc55d63d50f",
   "metadata": {},
   "source": [
    "After removing time-invariant country differences, fertility rises and falls with marriage prevalence. Effect size is large for macro panel work (r² ≈ 0.455² ≈ 0.21; ρ² ≈ 0.488² ≈ 0.24), indicating substantial within-country co-movement over time—not just cross-country level differences.\n",
    "\n",
    "Why this matters: Unlike politics/safety (which mostly vanished within-country), marriage remains strongly associated with fertility inside countries, making it a leading candidate for your “strongest relationship” claim."
   ]
  },
  {
   "cell_type": "code",
   "execution_count": 27,
   "id": "293f4417-9717-400c-9742-d9ebf52b2548",
   "metadata": {},
   "outputs": [
    {
     "data": {
      "text/html": [
       "<div>\n",
       "<style scoped>\n",
       "    .dataframe tbody tr th:only-of-type {\n",
       "        vertical-align: middle;\n",
       "    }\n",
       "\n",
       "    .dataframe tbody tr th {\n",
       "        vertical-align: top;\n",
       "    }\n",
       "\n",
       "    .dataframe thead th {\n",
       "        text-align: right;\n",
       "    }\n",
       "</style>\n",
       "<table border=\"1\" class=\"dataframe\">\n",
       "  <thead>\n",
       "    <tr style=\"text-align: right;\">\n",
       "      <th></th>\n",
       "      <th>var</th>\n",
       "      <th>n</th>\n",
       "      <th>pearson_r</th>\n",
       "      <th>pearson_p</th>\n",
       "      <th>spearman_r</th>\n",
       "      <th>spearman_p</th>\n",
       "    </tr>\n",
       "  </thead>\n",
       "  <tbody>\n",
       "    <tr>\n",
       "      <th>0</th>\n",
       "      <td>married_lag1</td>\n",
       "      <td>11057</td>\n",
       "      <td>0.429343</td>\n",
       "      <td>0.0</td>\n",
       "      <td>0.383613</td>\n",
       "      <td>0.0</td>\n",
       "    </tr>\n",
       "    <tr>\n",
       "      <th>1</th>\n",
       "      <td>married_lag2</td>\n",
       "      <td>10848</td>\n",
       "      <td>0.432409</td>\n",
       "      <td>0.0</td>\n",
       "      <td>0.382666</td>\n",
       "      <td>0.0</td>\n",
       "    </tr>\n",
       "    <tr>\n",
       "      <th>2</th>\n",
       "      <td>married_lag3</td>\n",
       "      <td>10639</td>\n",
       "      <td>0.435288</td>\n",
       "      <td>0.0</td>\n",
       "      <td>0.381610</td>\n",
       "      <td>0.0</td>\n",
       "    </tr>\n",
       "  </tbody>\n",
       "</table>\n",
       "</div>"
      ],
      "text/plain": [
       "            var      n  pearson_r  pearson_p  spearman_r  spearman_p\n",
       "0  married_lag1  11057   0.429343        0.0    0.383613         0.0\n",
       "1  married_lag2  10848   0.432409        0.0    0.382666         0.0\n",
       "2  married_lag3  10639   0.435288        0.0    0.381610         0.0"
      ]
     },
     "execution_count": 27,
     "metadata": {},
     "output_type": "execute_result"
    }
   ],
   "source": [
    "# Lag \n",
    "\n",
    "def corr_tests_cols(df, xcol, ycol=\"fertility_rate\"):\n",
    "    sub = df[[ycol, xcol]].dropna()\n",
    "    n = len(sub)\n",
    "    if n < 10:\n",
    "        return {\"n\": n, \"pearson_r\": np.nan, \"pearson_p\": np.nan,\n",
    "                \"spearman_r\": np.nan, \"spearman_p\": np.nan}\n",
    "    r_p, p_p = pearsonr(sub[ycol].to_numpy(), sub[xcol].to_numpy())\n",
    "    r_s, p_s = spearmanr(sub[ycol].to_numpy(), sub[xcol].to_numpy())\n",
    "    return {\"n\": n, \"pearson_r\": float(r_p), \"pearson_p\": float(p_p),\n",
    "            \"spearman_r\": float(r_s), \"spearman_p\": float(p_s)}\n",
    "\n",
    "# Build lags without renaming anything\n",
    "mar_l = mar.sort_values([\"iso_code\",\"year\"]).copy()\n",
    "for k in (1, 2, 3):\n",
    "    mar_l[f\"married_lag{k}\"] = mar_l.groupby(\"iso_code\")[\"married_percentage\"].shift(k)\n",
    "\n",
    "# Compute correlations using the explicit x column (no renaming)\n",
    "lag_rows = []\n",
    "for k in (1, 2, 3):\n",
    "    x = f\"married_lag{k}\"\n",
    "    stats = corr_tests_cols(mar_l, xcol=x, ycol=\"fertility_rate\")\n",
    "    stats[\"var\"] = x\n",
    "    lag_rows.append(stats)\n",
    "\n",
    "lags_sig_marriage = pd.DataFrame(lag_rows)[[\"var\",\"n\",\"pearson_r\",\"pearson_p\",\"spearman_r\",\"spearman_p\"]]\n",
    "lags_sig_marriage\n"
   ]
  },
  {
   "cell_type": "markdown",
   "id": "3fe3399d-959e-4474-8018-692b17e785ab",
   "metadata": {},
   "source": [
    "Marriage prevalence leads fertility with a stable, moderate positive association across 1–3-year lags (r ≈ 0.43). Rank-based results (ρ ≈ 0.38) confirm the pattern is monotonic, not driven by linear outliers. Combined with the within-country result (r ≈ 0.46), this is strong evidence that changes in marriage rates are closely tied to changes in fertility over time."
   ]
  },
  {
   "cell_type": "code",
   "execution_count": 28,
   "id": "74d21727-3a46-4ddc-a423-d7d5c1a0b89a",
   "metadata": {},
   "outputs": [
    {
     "data": {
      "text/html": [
       "<div>\n",
       "<style scoped>\n",
       "    .dataframe tbody tr th:only-of-type {\n",
       "        vertical-align: middle;\n",
       "    }\n",
       "\n",
       "    .dataframe tbody tr th {\n",
       "        vertical-align: top;\n",
       "    }\n",
       "\n",
       "    .dataframe thead th {\n",
       "        text-align: right;\n",
       "    }\n",
       "</style>\n",
       "<table border=\"1\" class=\"dataframe\">\n",
       "  <thead>\n",
       "    <tr style=\"text-align: right;\">\n",
       "      <th></th>\n",
       "      <th>n</th>\n",
       "      <th>partial_r</th>\n",
       "      <th>partial_p</th>\n",
       "    </tr>\n",
       "  </thead>\n",
       "  <tbody>\n",
       "    <tr>\n",
       "      <th>0</th>\n",
       "      <td>9941</td>\n",
       "      <td>0.187086</td>\n",
       "      <td>5.442435e-79</td>\n",
       "    </tr>\n",
       "  </tbody>\n",
       "</table>\n",
       "</div>"
      ],
      "text/plain": [
       "      n  partial_r     partial_p\n",
       "0  9941   0.187086  5.442435e-79"
      ]
     },
     "execution_count": 28,
     "metadata": {},
     "output_type": "execute_result"
    }
   ],
   "source": [
    "# Partial correlation | log(GDPpc) \n",
    "def partial_corr_log_gdppc(slice_df, x=\"married_percentage\", y=\"fertility_rate\"):\n",
    "    m = slice_df[[\"iso_code\",\"year\",y,x,\"log_gdppc\"]].dropna()\n",
    "    n = len(m)\n",
    "    if n < 10:\n",
    "        return pd.DataFrame([{\"n\": n, \"partial_r\": np.nan, \"partial_p\": np.nan}])\n",
    "    # residualize y ~ log_gdppc\n",
    "    b1y, b0y = np.polyfit(m[\"log_gdppc\"], m[y], 1); y_res = m[y] - (b1y*m[\"log_gdppc\"] + b0y)\n",
    "    # residualize x ~ log_gdppc\n",
    "    b1x, b0x = np.polyfit(m[\"log_gdppc\"], m[x], 1); x_res = m[x] - (b1x*m[\"log_gdppc\"] + b0x)\n",
    "    from scipy.stats import pearsonr\n",
    "    r, p = pearsonr(y_res, x_res)\n",
    "    return pd.DataFrame([{\"n\": n, \"partial_r\": float(r), \"partial_p\": float(p)}])\n",
    "\n",
    "partial_sig_marriage = partial_corr_log_gdppc(mar)\n",
    "partial_sig_marriage\n"
   ]
  },
  {
   "cell_type": "markdown",
   "id": "3a394b25-372d-4232-8ada-44c109c871b6",
   "metadata": {},
   "source": [
    "Even after holding income level (log GDP per capita) constant, marriage prevalence remains positively associated with fertility. The effect is small-to-moderate in magnitude (partial r ≈ 0.19), but with very strong statistical support given the large sample. This confirms that the marriage–fertility link is not just an artifact of income differences and helps explain why marriage showed the strongest within-country association in earlier tests."
   ]
  },
  {
   "cell_type": "code",
   "execution_count": 29,
   "id": "de894068-a1d2-4b1b-aeed-36b84b45fb71",
   "metadata": {},
   "outputs": [
    {
     "data": {
      "text/plain": [
       "(0.1680455322441913, 0.20598692567757368)"
      ]
     },
     "execution_count": 29,
     "metadata": {},
     "output_type": "execute_result"
    }
   ],
   "source": [
    "r, n = 0.187086, 9941\n",
    "z = np.arctanh(r)\n",
    "se = 1/np.sqrt(n-3)\n",
    "lo, hi = np.tanh(z + np.array([-1, 1]) * 1.96 * se)\n",
    "(lo, hi)"
   ]
  },
  {
   "cell_type": "markdown",
   "id": "b04c6ad9-3d9a-42a2-8754-b718564c9696",
   "metadata": {},
   "source": [
    "reject H0; marriage retains a positive, statistically robust association with fertility after controlling for income."
   ]
  },
  {
   "cell_type": "code",
   "execution_count": 30,
   "id": "0fd0f5f4-8400-4974-b4b1-ebb8a6c6ee0e",
   "metadata": {},
   "outputs": [
    {
     "data": {
      "text/html": [
       "<div>\n",
       "<style scoped>\n",
       "    .dataframe tbody tr th:only-of-type {\n",
       "        vertical-align: middle;\n",
       "    }\n",
       "\n",
       "    .dataframe tbody tr th {\n",
       "        vertical-align: top;\n",
       "    }\n",
       "\n",
       "    .dataframe thead th {\n",
       "        text-align: right;\n",
       "    }\n",
       "</style>\n",
       "<table border=\"1\" class=\"dataframe\">\n",
       "  <thead>\n",
       "    <tr style=\"text-align: right;\">\n",
       "      <th></th>\n",
       "      <th>n</th>\n",
       "      <th>pearson_r</th>\n",
       "      <th>pearson_p</th>\n",
       "      <th>spearman_r</th>\n",
       "      <th>spearman_p</th>\n",
       "    </tr>\n",
       "  </thead>\n",
       "  <tbody>\n",
       "    <tr>\n",
       "      <th>0</th>\n",
       "      <td>11057</td>\n",
       "      <td>0.098511</td>\n",
       "      <td>2.970106e-25</td>\n",
       "      <td>0.08583</td>\n",
       "      <td>1.554516e-19</td>\n",
       "    </tr>\n",
       "  </tbody>\n",
       "</table>\n",
       "</div>"
      ],
      "text/plain": [
       "       n  pearson_r     pearson_p  spearman_r    spearman_p\n",
       "0  11057   0.098511  2.970106e-25     0.08583  1.554516e-19"
      ]
     },
     "execution_count": 30,
     "metadata": {},
     "output_type": "execute_result"
    }
   ],
   "source": [
    "def corr_tests_cols(df, xcol, ycol):\n",
    "    sub = df[[ycol, xcol]].dropna()\n",
    "    n = len(sub)\n",
    "    if n < 10:\n",
    "        return pd.DataFrame([{\"n\": n, \"pearson_r\": np.nan, \"pearson_p\": np.nan,\n",
    "                              \"spearman_r\": np.nan, \"spearman_p\": np.nan}])\n",
    "    r_p, p_p = pearsonr(sub[ycol].to_numpy(), sub[xcol].to_numpy())\n",
    "    r_s, p_s = spearmanr(sub[ycol].to_numpy(), sub[xcol].to_numpy())\n",
    "    return pd.DataFrame([{\"n\": n, \"pearson_r\": float(r_p), \"pearson_p\": float(p_p),\n",
    "                          \"spearman_r\": float(r_s), \"spearman_p\": float(p_s)}])\n",
    "\n",
    "# Build first differences without renaming anything\n",
    "mar_d = mar.sort_values([\"iso_code\",\"year\"]).copy()\n",
    "mar_d[\"d_fertility\"] = mar_d.groupby(\"iso_code\")[\"fertility_rate\"].diff()\n",
    "mar_d[\"d_married\"]   = mar_d.groupby(\"iso_code\")[\"married_percentage\"].diff()\n",
    "\n",
    "# Correlation on deltas\n",
    "delta_sig_marriage = corr_tests_cols(mar_d, xcol=\"d_married\", ycol=\"d_fertility\")\n",
    "delta_sig_marriage\n",
    "\n"
   ]
  },
  {
   "cell_type": "code",
   "execution_count": 31,
   "id": "22e22f90-c643-43d6-91bf-2bfe5ae04988",
   "metadata": {},
   "outputs": [
    {
     "name": "stdout",
     "output_type": "stream",
     "text": [
      "Pooled: {'r': 0.42606392780956603, 'slope': 0.08726212654621349, 'intercept': -1.6530767725754028}\n",
      "Within-country: {'r': 0.45498830413048325, 'slope': 0.11372688070129403, 'intercept': -1.3911597290491914e-16}\n"
     ]
    },
    {
     "data": {
      "text/html": [
       "<div>\n",
       "<style scoped>\n",
       "    .dataframe tbody tr th:only-of-type {\n",
       "        vertical-align: middle;\n",
       "    }\n",
       "\n",
       "    .dataframe tbody tr th {\n",
       "        vertical-align: top;\n",
       "    }\n",
       "\n",
       "    .dataframe thead th {\n",
       "        text-align: right;\n",
       "    }\n",
       "</style>\n",
       "<table border=\"1\" class=\"dataframe\">\n",
       "  <thead>\n",
       "    <tr style=\"text-align: right;\">\n",
       "      <th></th>\n",
       "      <th>lag</th>\n",
       "      <th>n</th>\n",
       "      <th>r</th>\n",
       "      <th>slope</th>\n",
       "      <th>intercept</th>\n",
       "    </tr>\n",
       "  </thead>\n",
       "  <tbody>\n",
       "    <tr>\n",
       "      <th>0</th>\n",
       "      <td>1</td>\n",
       "      <td>11057</td>\n",
       "      <td>0.429343</td>\n",
       "      <td>0.087544</td>\n",
       "      <td>-1.705906</td>\n",
       "    </tr>\n",
       "    <tr>\n",
       "      <th>1</th>\n",
       "      <td>2</td>\n",
       "      <td>10848</td>\n",
       "      <td>0.432409</td>\n",
       "      <td>0.087751</td>\n",
       "      <td>-1.754225</td>\n",
       "    </tr>\n",
       "    <tr>\n",
       "      <th>2</th>\n",
       "      <td>3</td>\n",
       "      <td>10639</td>\n",
       "      <td>0.435288</td>\n",
       "      <td>0.087886</td>\n",
       "      <td>-1.797890</td>\n",
       "    </tr>\n",
       "  </tbody>\n",
       "</table>\n",
       "</div>"
      ],
      "text/plain": [
       "   lag      n         r     slope  intercept\n",
       "0    1  11057  0.429343  0.087544  -1.705906\n",
       "1    2  10848  0.432409  0.087751  -1.754225\n",
       "2    3  10639  0.435288  0.087886  -1.797890"
      ]
     },
     "execution_count": 31,
     "metadata": {},
     "output_type": "execute_result"
    }
   ],
   "source": [
    "os.makedirs(\"figs_marriage\", exist_ok=True)\n",
    "\n",
    "def _pearsonr(x, y):\n",
    "    x = np.asarray(x, float); y = np.asarray(y, float)\n",
    "    if x.size < 3 or y.size < 3: return float(\"nan\")\n",
    "    xm, ym = x - x.mean(), y - y.mean()\n",
    "    den = np.sqrt((xm**2).sum()) * np.sqrt((ym**2).sum())\n",
    "    if den == 0: return float(\"nan\")\n",
    "    return float((xm*ym).sum() / den)\n",
    "\n",
    "def _ols(x, y):\n",
    "    x = np.asarray(x, float); y = np.asarray(y, float)\n",
    "    if x.size < 2: return float(\"nan\"), float(\"nan\")\n",
    "    X = np.vstack([x, np.ones_like(x)]).T\n",
    "    beta, *_ = np.linalg.lstsq(X, y, rcond=None)\n",
    "    return float(beta[0]), float(beta[1])\n",
    "\n",
    "def _scatter_with_fit(x, y, title, xlabel, ylabel, savepath):\n",
    "    fig = plt.figure()\n",
    "    ax = fig.add_subplot(111)\n",
    "    ax.scatter(x, y, alpha=0.6)\n",
    "    m, b = _ols(x, y)\n",
    "    if not (np.isnan(m) or np.isnan(b)):\n",
    "        xs = np.linspace(np.nanmin(x), np.nanmax(x), 100)\n",
    "        ax.plot(xs, m*xs + b, linewidth=2)\n",
    "    ax.set_title(title)\n",
    "    ax.set_xlabel(xlabel); ax.set_ylabel(ylabel)\n",
    "    fig.tight_layout(); fig.savefig(savepath, dpi=160); plt.close(fig)\n",
    "    return {\"r\": _pearsonr(x, y), \"slope\": m, \"intercept\": b}\n",
    "\n",
    "# pooled\n",
    "stats_pooled = _scatter_with_fit(\n",
    "    x=mar[\"married_percentage\"].to_numpy(),\n",
    "    y=mar[\"fertility_rate\"].to_numpy(),\n",
    "    title=\"Fertility vs Marriage (pooled, 1970–2024)\",\n",
    "    xlabel=\"Married % (population)\",\n",
    "    ylabel=\"Fertility rate\",\n",
    "    savepath=\"figs_marriage/pooled.png\"\n",
    ")\n",
    "print(\"Pooled:\", stats_pooled)\n",
    "\n",
    "# Within country (demeaned)\n",
    "mar_w = mar.dropna(subset=[\"iso_code\",\"married_percentage\",\"fertility_rate\"]).copy()\n",
    "mar_w[\"_x\"] = mar_w[\"married_percentage\"] - mar_w.groupby(\"iso_code\")[\"married_percentage\"].transform(\"mean\")\n",
    "mar_w[\"_y\"] = mar_w[\"fertility_rate\"]      - mar_w.groupby(\"iso_code\")[\"fertility_rate\"].transform(\"mean\")\n",
    "\n",
    "stats_within = _scatter_with_fit(\n",
    "    x=mar_w[\"_x\"].to_numpy(),\n",
    "    y=mar_w[\"_y\"].to_numpy(),\n",
    "    title=\"Fertility vs Marriage (within-country demeaned, 1970–2024)\",\n",
    "    xlabel=\"Married % (demeaned within country)\",\n",
    "    ylabel=\"Fertility rate (demeaned within country)\",\n",
    "    savepath=\"figs_marriage/within.png\"\n",
    ")\n",
    "print(\"Within-country:\", stats_within)\n",
    "\n",
    "# Lag\n",
    "mar_l = mar.sort_values([\"iso_code\",\"year\"]).copy()\n",
    "lag_results = []\n",
    "for L in [1,2,3]:\n",
    "    g = mar_l.groupby(\"iso_code\", group_keys=False).apply(\n",
    "        lambda d: d.assign(xlag=d[\"married_percentage\"].shift(L))\n",
    "    )\n",
    "    g = g.dropna(subset=[\"xlag\",\"fertility_rate\"])\n",
    "    stats_L = _scatter_with_fit(\n",
    "        x=g[\"xlag\"].to_numpy(),\n",
    "        y=g[\"fertility_rate\"].to_numpy(),\n",
    "        title=f\"Fertility_t vs Marriage_(t-{L}) (pooled, 1970–2024)\",\n",
    "        xlabel=f\"Married % (t-{L})\",\n",
    "        ylabel=\"Fertility rate (t)\",\n",
    "        savepath=f\"figs_marriage/lag{L}.png\"\n",
    "    )\n",
    "    stats_L[\"lag\"] = L; stats_L[\"n\"] = int(g.shape[0])\n",
    "    lag_results.append(stats_L)\n",
    "\n",
    "pd.DataFrame(lag_results)[[\"lag\",\"n\",\"r\",\"slope\",\"intercept\"]]\n"
   ]
  },
  {
   "cell_type": "markdown",
   "id": "c5aab5b0-652c-4210-b505-3e84ce133a2b",
   "metadata": {},
   "source": [
    "### Marriage and Fertility — First Differences, Cell M6\n",
    "\n",
    "**Decision:** All p < 0.05: reject H0.\n",
    "\n",
    "**Interpretation:** Year-to-year increases in marriage prevalence are associated with increases in fertility. The effect size is small (r ≈ 0.10), but statistically precise given large n. Together with the within-country (demeaned) result (r ≈ 0.455) and lagged results (r ≈ 0.43 for k=1–3), this provides a consistent picture: marriage prevalence co-moves with fertility both in levels (within countries) and in short-run changes.\n",
    "\n",
    "---\n",
    "\n",
    "## Summary \n",
    "\n",
    "* **Pooled** r ≈ 0.43, ρ ≈ 0.38 **reject H0**\n",
    "* **Within-country (demeaned):** r ≈ 0.455, ρ ≈ 0.488 **reject H0**\n",
    "* **Lags (k=1–3):** r ≈ 0.43 each **reject H0**\n",
    "* **Partial | log(GDPpc):** partial r ≈ 0.187 p ≈ 0.000 **reject H0**\n",
    "* **First differences (delta):** r ≈ 0.10, ρ ≈ 0.086  **reject H0**\n",
    "\n",
    "**Conclusion:** Marriage prevalence shows the strongest and most robust association with fertility across all checks (pooled, within-country, lagged, partial, and delta). While short-run effects are modest, the within-country and partial results demonstrate a substantive, positive link that persists beyond income differences.\n"
   ]
  },
  {
   "cell_type": "code",
   "execution_count": null,
   "id": "956502fa-ecdc-4e7a-95d1-fcd7bf285221",
   "metadata": {},
   "outputs": [],
   "source": []
  }
 ],
 "metadata": {
  "kernelspec": {
   "display_name": "Python 3 (ipykernel)",
   "language": "python",
   "name": "python3"
  },
  "language_info": {
   "codemirror_mode": {
    "name": "ipython",
    "version": 3
   },
   "file_extension": ".py",
   "mimetype": "text/x-python",
   "name": "python",
   "nbconvert_exporter": "python",
   "pygments_lexer": "ipython3",
   "version": "3.9.6"
  }
 },
 "nbformat": 4,
 "nbformat_minor": 5
}
